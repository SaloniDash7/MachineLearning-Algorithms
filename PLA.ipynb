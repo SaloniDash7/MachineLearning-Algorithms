{
 "cells": [
  {
   "cell_type": "code",
   "execution_count": 1,
   "metadata": {},
   "outputs": [],
   "source": [
    "import numpy as np\n",
    "import numpy.random as npr\n",
    "from matplotlib import pyplot as plt\n",
    "#Generate Target Function\n",
    "targetline=np.array(npr.uniform(-1,1,4)).reshape(2,2)\n",
    "#Generate Training Set\n",
    "train=np.array(npr.uniform(-1,1,200)).reshape(100,2)"
   ]
  },
  {
   "cell_type": "code",
   "execution_count": 2,
   "metadata": {},
   "outputs": [],
   "source": [
    "#Generate output Space\n",
    "y=np.zeros((100,1))\n",
    "for i in np.arange(0,100):\n",
    "    if((train[i,1]-targetline[0,1])-(((targetline[1,1]-targetline[0,1])/(targetline[1,0]-targetline[0,0]))*(train[i,0]-targetline[0,0]))>0):\n",
    "        y[i]=1\n",
    "    else:\n",
    "        y[i]=-1\n",
    "\n",
    "    "
   ]
  },
  {
   "cell_type": "code",
   "execution_count": 3,
   "metadata": {},
   "outputs": [],
   "source": [
    "train=np.insert(train,0,1,axis=1)\n",
    "#Initialise Weights to 0\n",
    "w=np.zeros((1,3))"
   ]
  },
  {
   "cell_type": "code",
   "execution_count": 7,
   "metadata": {},
   "outputs": [
    {
     "name": "stdout",
     "output_type": "stream",
     "text": [
      "24\n"
     ]
    }
   ],
   "source": [
    "#PLA \n",
    "itr=0\n",
    "Ein=0\n",
    "j=0\n",
    "while True:\n",
    "    #Calculate number of misclassified point/Ein\n",
    "    for c in np.arange(0,100):\n",
    "        if((np.sign(np.dot(w,train[c])))!=y[c]):\n",
    "            Ein+=1\n",
    "            j+=1\n",
    "    misc=np.zeros((j,1))\n",
    "    z=0\n",
    "    #Store Misclassified points\n",
    "    for x in np.arange(0,100):\n",
    "        if((np.sign(np.dot(w,train[x])))!=y[x]):\n",
    "            misc[z]=x\n",
    "            z+=1\n",
    "    #Choose a misclassfied point and update Weight vector\n",
    "    if(j!=0):\n",
    "        i=npr.randint(0,j)\n",
    "        r=np.sum(misc[i])\n",
    "        h=np.sign(np.dot(w,train[int(r)]))\n",
    "        if(h!=y[int(r)]):\n",
    "            w+=train[int(r)]*y[int(r)]\n",
    "    else:\n",
    "        if(Ein==0):\n",
    "            break\n",
    "    Ein=0\n",
    "    j=0\n",
    "    itr+=1\n",
    "        \n",
    "print(itr)    "
   ]
  },
  {
   "cell_type": "code",
   "execution_count": 8,
   "metadata": {},
   "outputs": [
    {
     "data": {
      "image/png": "[encoded data removed]",
      "text/plain": [
       "<matplotlib.figure.Figure at 0x18ea16942e8>"
      ]
     },
     "metadata": {},
     "output_type": "display_data"
    }
   ],
   "source": [
    "#Plot\n",
    "fig, ax=plt.subplots()\n",
    "ax.scatter(*zip(*(np.delete(train,0,axis=1))))\n",
    "ax.plot(*zip(*targetline), color=\"red\")\n",
    "ax.plot(train,(-1*w[0,1]/w[0,2])*train+(-1)*w[0,0]/w[0,2],color=\"green\")\n",
    "ax.axis([-1,1,-1,1])\n",
    "plt.show()"
   ]
  },
  {
   "cell_type": "code",
   "execution_count": null,
   "metadata": {},
   "outputs": [],
   "source": []
  },
  {
   "cell_type": "code",
   "execution_count": null,
   "metadata": {},
   "outputs": [],
   "source": [
    "\n",
    "\n"
   ]
  },
  {
   "cell_type": "code",
   "execution_count": null,
   "metadata": {},
   "outputs": [],
   "source": []
  },
  {
   "cell_type": "code",
   "execution_count": null,
   "metadata": {},
   "outputs": [],
   "source": []
  },
  {
   "cell_type": "code",
   "execution_count": null,
   "metadata": {},
   "outputs": [],
   "source": [
    "\n"
   ]
  },
  {
   "cell_type": "code",
   "execution_count": null,
   "metadata": {},
   "outputs": [],
   "source": []
  },
  {
   "cell_type": "code",
   "execution_count": null,
   "metadata": {
    "collapsed": true
   },
   "outputs": [],
   "source": []
  }
 ],
 "metadata": {
  "anaconda-cloud": {},
  "kernelspec": {
   "display_name": "Python 3",
   "language": "python",
   "name": "python3"
  },
  "language_info": {
   "codemirror_mode": {
    "name": "ipython",
    "version": 3
   },
   "file_extension": ".py",
   "mimetype": "text/x-python",
   "name": "python",
   "nbconvert_exporter": "python",
   "pygments_lexer": "ipython3",
   "version": "3.5.2"
  }
 },
 "nbformat": 4,
 "nbformat_minor": 1
}
